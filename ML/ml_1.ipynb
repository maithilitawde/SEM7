{
 "cells": [
  {
   "cell_type": "code",
   "execution_count": 113,
   "id": "fc2edcc2",
   "metadata": {},
   "outputs": [],
   "source": [
    "import pandas as pd\n",
    "import numpy as np\n",
    "import matplotlib.pyplot as plt\n",
    "import seaborn as sns"
   ]
  },
  {
   "cell_type": "code",
   "execution_count": 114,
   "id": "899dd6e0",
   "metadata": {},
   "outputs": [],
   "source": [
    "df = pd.read_csv('uber.csv')"
   ]
  },
  {
   "cell_type": "code",
   "execution_count": 115,
   "id": "f7a52308",
   "metadata": {},
   "outputs": [
    {
     "data": {
      "text/html": [
       "<div>\n",
       "<style scoped>\n",
       "    .dataframe tbody tr th:only-of-type {\n",
       "        vertical-align: middle;\n",
       "    }\n",
       "\n",
       "    .dataframe tbody tr th {\n",
       "        vertical-align: top;\n",
       "    }\n",
       "\n",
       "    .dataframe thead th {\n",
       "        text-align: right;\n",
       "    }\n",
       "</style>\n",
       "<table border=\"1\" class=\"dataframe\">\n",
       "  <thead>\n",
       "    <tr style=\"text-align: right;\">\n",
       "      <th></th>\n",
       "      <th>Unnamed: 0</th>\n",
       "      <th>key</th>\n",
       "      <th>fare_amount</th>\n",
       "      <th>pickup_datetime</th>\n",
       "      <th>pickup_longitude</th>\n",
       "      <th>pickup_latitude</th>\n",
       "      <th>dropoff_longitude</th>\n",
       "      <th>dropoff_latitude</th>\n",
       "      <th>passenger_count</th>\n",
       "    </tr>\n",
       "  </thead>\n",
       "  <tbody>\n",
       "    <tr>\n",
       "      <th>0</th>\n",
       "      <td>24238194</td>\n",
       "      <td>2015-05-07 19:52:06.0000003</td>\n",
       "      <td>7.5</td>\n",
       "      <td>2015-05-07 19:52:06 UTC</td>\n",
       "      <td>-73.999817</td>\n",
       "      <td>40.738354</td>\n",
       "      <td>-73.999512</td>\n",
       "      <td>40.723217</td>\n",
       "      <td>1</td>\n",
       "    </tr>\n",
       "    <tr>\n",
       "      <th>1</th>\n",
       "      <td>27835199</td>\n",
       "      <td>2009-07-17 20:04:56.0000002</td>\n",
       "      <td>7.7</td>\n",
       "      <td>2009-07-17 20:04:56 UTC</td>\n",
       "      <td>-73.994355</td>\n",
       "      <td>40.728225</td>\n",
       "      <td>-73.994710</td>\n",
       "      <td>40.750325</td>\n",
       "      <td>1</td>\n",
       "    </tr>\n",
       "    <tr>\n",
       "      <th>2</th>\n",
       "      <td>44984355</td>\n",
       "      <td>2009-08-24 21:45:00.00000061</td>\n",
       "      <td>12.9</td>\n",
       "      <td>2009-08-24 21:45:00 UTC</td>\n",
       "      <td>-74.005043</td>\n",
       "      <td>40.740770</td>\n",
       "      <td>-73.962565</td>\n",
       "      <td>40.772647</td>\n",
       "      <td>1</td>\n",
       "    </tr>\n",
       "    <tr>\n",
       "      <th>3</th>\n",
       "      <td>25894730</td>\n",
       "      <td>2009-06-26 08:22:21.0000001</td>\n",
       "      <td>5.3</td>\n",
       "      <td>2009-06-26 08:22:21 UTC</td>\n",
       "      <td>-73.976124</td>\n",
       "      <td>40.790844</td>\n",
       "      <td>-73.965316</td>\n",
       "      <td>40.803349</td>\n",
       "      <td>3</td>\n",
       "    </tr>\n",
       "    <tr>\n",
       "      <th>4</th>\n",
       "      <td>17610152</td>\n",
       "      <td>2014-08-28 17:47:00.000000188</td>\n",
       "      <td>16.0</td>\n",
       "      <td>2014-08-28 17:47:00 UTC</td>\n",
       "      <td>-73.925023</td>\n",
       "      <td>40.744085</td>\n",
       "      <td>-73.973082</td>\n",
       "      <td>40.761247</td>\n",
       "      <td>5</td>\n",
       "    </tr>\n",
       "  </tbody>\n",
       "</table>\n",
       "</div>"
      ],
      "text/plain": [
       "   Unnamed: 0                            key  fare_amount   \n",
       "0    24238194    2015-05-07 19:52:06.0000003          7.5  \\\n",
       "1    27835199    2009-07-17 20:04:56.0000002          7.7   \n",
       "2    44984355   2009-08-24 21:45:00.00000061         12.9   \n",
       "3    25894730    2009-06-26 08:22:21.0000001          5.3   \n",
       "4    17610152  2014-08-28 17:47:00.000000188         16.0   \n",
       "\n",
       "           pickup_datetime  pickup_longitude  pickup_latitude   \n",
       "0  2015-05-07 19:52:06 UTC        -73.999817        40.738354  \\\n",
       "1  2009-07-17 20:04:56 UTC        -73.994355        40.728225   \n",
       "2  2009-08-24 21:45:00 UTC        -74.005043        40.740770   \n",
       "3  2009-06-26 08:22:21 UTC        -73.976124        40.790844   \n",
       "4  2014-08-28 17:47:00 UTC        -73.925023        40.744085   \n",
       "\n",
       "   dropoff_longitude  dropoff_latitude  passenger_count  \n",
       "0         -73.999512         40.723217                1  \n",
       "1         -73.994710         40.750325                1  \n",
       "2         -73.962565         40.772647                1  \n",
       "3         -73.965316         40.803349                3  \n",
       "4         -73.973082         40.761247                5  "
      ]
     },
     "execution_count": 115,
     "metadata": {},
     "output_type": "execute_result"
    }
   ],
   "source": [
    "df.head()"
   ]
  },
  {
   "cell_type": "code",
   "execution_count": 116,
   "id": "d466c618",
   "metadata": {},
   "outputs": [],
   "source": [
    "#Preprocessing"
   ]
  },
  {
   "cell_type": "code",
   "execution_count": 117,
   "id": "feed75d0",
   "metadata": {},
   "outputs": [
    {
     "name": "stdout",
     "output_type": "stream",
     "text": [
      "<class 'pandas.core.frame.DataFrame'>\n",
      "RangeIndex: 200000 entries, 0 to 199999\n",
      "Data columns (total 9 columns):\n",
      " #   Column             Non-Null Count   Dtype  \n",
      "---  ------             --------------   -----  \n",
      " 0   Unnamed: 0         200000 non-null  int64  \n",
      " 1   key                200000 non-null  object \n",
      " 2   fare_amount        200000 non-null  float64\n",
      " 3   pickup_datetime    200000 non-null  object \n",
      " 4   pickup_longitude   200000 non-null  float64\n",
      " 5   pickup_latitude    200000 non-null  float64\n",
      " 6   dropoff_longitude  199999 non-null  float64\n",
      " 7   dropoff_latitude   199999 non-null  float64\n",
      " 8   passenger_count    200000 non-null  int64  \n",
      "dtypes: float64(5), int64(2), object(2)\n",
      "memory usage: 13.7+ MB\n"
     ]
    }
   ],
   "source": [
    "df.info()"
   ]
  },
  {
   "cell_type": "code",
   "execution_count": 118,
   "id": "4818ee86",
   "metadata": {},
   "outputs": [],
   "source": [
    "df['pickup_datetime'] = pd.to_datetime(df['pickup_datetime'])"
   ]
  },
  {
   "cell_type": "code",
   "execution_count": 119,
   "id": "193aecd6",
   "metadata": {},
   "outputs": [
    {
     "name": "stdout",
     "output_type": "stream",
     "text": [
      "<class 'pandas.core.frame.DataFrame'>\n",
      "RangeIndex: 200000 entries, 0 to 199999\n",
      "Data columns (total 9 columns):\n",
      " #   Column             Non-Null Count   Dtype              \n",
      "---  ------             --------------   -----              \n",
      " 0   Unnamed: 0         200000 non-null  int64              \n",
      " 1   key                200000 non-null  object             \n",
      " 2   fare_amount        200000 non-null  float64            \n",
      " 3   pickup_datetime    200000 non-null  datetime64[ns, UTC]\n",
      " 4   pickup_longitude   200000 non-null  float64            \n",
      " 5   pickup_latitude    200000 non-null  float64            \n",
      " 6   dropoff_longitude  199999 non-null  float64            \n",
      " 7   dropoff_latitude   199999 non-null  float64            \n",
      " 8   passenger_count    200000 non-null  int64              \n",
      "dtypes: datetime64[ns, UTC](1), float64(5), int64(2), object(1)\n",
      "memory usage: 13.7+ MB\n"
     ]
    }
   ],
   "source": [
    "df.info()"
   ]
  },
  {
   "cell_type": "code",
   "execution_count": 120,
   "id": "324b7aae",
   "metadata": {},
   "outputs": [
    {
     "data": {
      "text/html": [
       "<div>\n",
       "<style scoped>\n",
       "    .dataframe tbody tr th:only-of-type {\n",
       "        vertical-align: middle;\n",
       "    }\n",
       "\n",
       "    .dataframe tbody tr th {\n",
       "        vertical-align: top;\n",
       "    }\n",
       "\n",
       "    .dataframe thead th {\n",
       "        text-align: right;\n",
       "    }\n",
       "</style>\n",
       "<table border=\"1\" class=\"dataframe\">\n",
       "  <thead>\n",
       "    <tr style=\"text-align: right;\">\n",
       "      <th></th>\n",
       "      <th>Unnamed: 0</th>\n",
       "      <th>fare_amount</th>\n",
       "      <th>pickup_longitude</th>\n",
       "      <th>pickup_latitude</th>\n",
       "      <th>dropoff_longitude</th>\n",
       "      <th>dropoff_latitude</th>\n",
       "      <th>passenger_count</th>\n",
       "    </tr>\n",
       "  </thead>\n",
       "  <tbody>\n",
       "    <tr>\n",
       "      <th>count</th>\n",
       "      <td>2.000000e+05</td>\n",
       "      <td>200000.000000</td>\n",
       "      <td>200000.000000</td>\n",
       "      <td>200000.000000</td>\n",
       "      <td>199999.000000</td>\n",
       "      <td>199999.000000</td>\n",
       "      <td>200000.000000</td>\n",
       "    </tr>\n",
       "    <tr>\n",
       "      <th>mean</th>\n",
       "      <td>2.771250e+07</td>\n",
       "      <td>11.359955</td>\n",
       "      <td>-72.527638</td>\n",
       "      <td>39.935885</td>\n",
       "      <td>-72.525292</td>\n",
       "      <td>39.923890</td>\n",
       "      <td>1.684535</td>\n",
       "    </tr>\n",
       "    <tr>\n",
       "      <th>std</th>\n",
       "      <td>1.601382e+07</td>\n",
       "      <td>9.901776</td>\n",
       "      <td>11.437787</td>\n",
       "      <td>7.720539</td>\n",
       "      <td>13.117408</td>\n",
       "      <td>6.794829</td>\n",
       "      <td>1.385997</td>\n",
       "    </tr>\n",
       "    <tr>\n",
       "      <th>min</th>\n",
       "      <td>1.000000e+00</td>\n",
       "      <td>-52.000000</td>\n",
       "      <td>-1340.648410</td>\n",
       "      <td>-74.015515</td>\n",
       "      <td>-3356.666300</td>\n",
       "      <td>-881.985513</td>\n",
       "      <td>0.000000</td>\n",
       "    </tr>\n",
       "    <tr>\n",
       "      <th>25%</th>\n",
       "      <td>1.382535e+07</td>\n",
       "      <td>6.000000</td>\n",
       "      <td>-73.992065</td>\n",
       "      <td>40.734796</td>\n",
       "      <td>-73.991407</td>\n",
       "      <td>40.733823</td>\n",
       "      <td>1.000000</td>\n",
       "    </tr>\n",
       "    <tr>\n",
       "      <th>50%</th>\n",
       "      <td>2.774550e+07</td>\n",
       "      <td>8.500000</td>\n",
       "      <td>-73.981823</td>\n",
       "      <td>40.752592</td>\n",
       "      <td>-73.980093</td>\n",
       "      <td>40.753042</td>\n",
       "      <td>1.000000</td>\n",
       "    </tr>\n",
       "    <tr>\n",
       "      <th>75%</th>\n",
       "      <td>4.155530e+07</td>\n",
       "      <td>12.500000</td>\n",
       "      <td>-73.967154</td>\n",
       "      <td>40.767158</td>\n",
       "      <td>-73.963658</td>\n",
       "      <td>40.768001</td>\n",
       "      <td>2.000000</td>\n",
       "    </tr>\n",
       "    <tr>\n",
       "      <th>max</th>\n",
       "      <td>5.542357e+07</td>\n",
       "      <td>499.000000</td>\n",
       "      <td>57.418457</td>\n",
       "      <td>1644.421482</td>\n",
       "      <td>1153.572603</td>\n",
       "      <td>872.697628</td>\n",
       "      <td>208.000000</td>\n",
       "    </tr>\n",
       "  </tbody>\n",
       "</table>\n",
       "</div>"
      ],
      "text/plain": [
       "         Unnamed: 0    fare_amount  pickup_longitude  pickup_latitude   \n",
       "count  2.000000e+05  200000.000000     200000.000000    200000.000000  \\\n",
       "mean   2.771250e+07      11.359955        -72.527638        39.935885   \n",
       "std    1.601382e+07       9.901776         11.437787         7.720539   \n",
       "min    1.000000e+00     -52.000000      -1340.648410       -74.015515   \n",
       "25%    1.382535e+07       6.000000        -73.992065        40.734796   \n",
       "50%    2.774550e+07       8.500000        -73.981823        40.752592   \n",
       "75%    4.155530e+07      12.500000        -73.967154        40.767158   \n",
       "max    5.542357e+07     499.000000         57.418457      1644.421482   \n",
       "\n",
       "       dropoff_longitude  dropoff_latitude  passenger_count  \n",
       "count      199999.000000     199999.000000    200000.000000  \n",
       "mean          -72.525292         39.923890         1.684535  \n",
       "std            13.117408          6.794829         1.385997  \n",
       "min         -3356.666300       -881.985513         0.000000  \n",
       "25%           -73.991407         40.733823         1.000000  \n",
       "50%           -73.980093         40.753042         1.000000  \n",
       "75%           -73.963658         40.768001         2.000000  \n",
       "max          1153.572603        872.697628       208.000000  "
      ]
     },
     "execution_count": 120,
     "metadata": {},
     "output_type": "execute_result"
    }
   ],
   "source": [
    "df.describe()"
   ]
  },
  {
   "cell_type": "code",
   "execution_count": 121,
   "id": "9a2f95fb",
   "metadata": {},
   "outputs": [
    {
     "data": {
      "text/plain": [
       "(200000, 9)"
      ]
     },
     "execution_count": 121,
     "metadata": {},
     "output_type": "execute_result"
    }
   ],
   "source": [
    "df.shape"
   ]
  },
  {
   "cell_type": "code",
   "execution_count": 122,
   "id": "eb44cbad",
   "metadata": {},
   "outputs": [
    {
     "data": {
      "text/plain": [
       "Unnamed: 0           0\n",
       "key                  0\n",
       "fare_amount          0\n",
       "pickup_datetime      0\n",
       "pickup_longitude     0\n",
       "pickup_latitude      0\n",
       "dropoff_longitude    1\n",
       "dropoff_latitude     1\n",
       "passenger_count      0\n",
       "dtype: int64"
      ]
     },
     "execution_count": 122,
     "metadata": {},
     "output_type": "execute_result"
    }
   ],
   "source": [
    "df.isnull().sum()"
   ]
  },
  {
   "cell_type": "code",
   "execution_count": 123,
   "id": "ed66abe4",
   "metadata": {},
   "outputs": [],
   "source": [
    "df.dropna(inplace = True)"
   ]
  },
  {
   "cell_type": "code",
   "execution_count": 124,
   "id": "2626848c",
   "metadata": {},
   "outputs": [
    {
     "data": {
      "text/plain": [
       "Unnamed: 0           0\n",
       "key                  0\n",
       "fare_amount          0\n",
       "pickup_datetime      0\n",
       "pickup_longitude     0\n",
       "pickup_latitude      0\n",
       "dropoff_longitude    0\n",
       "dropoff_latitude     0\n",
       "passenger_count      0\n",
       "dtype: int64"
      ]
     },
     "execution_count": 124,
     "metadata": {},
     "output_type": "execute_result"
    }
   ],
   "source": [
    "df.isnull().sum()"
   ]
  },
  {
   "cell_type": "code",
   "execution_count": 125,
   "id": "8a3d3d3c",
   "metadata": {},
   "outputs": [],
   "source": [
    "#identify outliers"
   ]
  },
  {
   "cell_type": "code",
   "execution_count": 126,
   "id": "b1d3ee5f",
   "metadata": {},
   "outputs": [
    {
     "data": {
      "text/plain": [
       "{'whiskers': [<matplotlib.lines.Line2D at 0x1ba554f9350>,\n",
       "  <matplotlib.lines.Line2D at 0x1ba527edb90>],\n",
       " 'caps': [<matplotlib.lines.Line2D at 0x1ba49608290>,\n",
       "  <matplotlib.lines.Line2D at 0x1ba2b9e89d0>],\n",
       " 'boxes': [<matplotlib.lines.Line2D at 0x1ba53453910>],\n",
       " 'medians': [<matplotlib.lines.Line2D at 0x1ba2b9d8610>],\n",
       " 'fliers': [<matplotlib.lines.Line2D at 0x1ba2b9ef4d0>],\n",
       " 'means': []}"
      ]
     },
     "execution_count": 126,
     "metadata": {},
     "output_type": "execute_result"
    },
    {
     "data": {
      "image/png": "[encoded data removed]",
      "text/plain": [
       "<Figure size 640x480 with 1 Axes>"
      ]
     },
     "metadata": {},
     "output_type": "display_data"
    }
   ],
   "source": [
    "plt.boxplot(df['fare_amount'])"
   ]
  },
  {
   "cell_type": "code",
   "execution_count": 127,
   "id": "32096d56",
   "metadata": {},
   "outputs": [],
   "source": [
    "q1 = df['fare_amount'].quantile(0.01)\n",
    "q3 = df['fare_amount'].quantile(0.99)\n",
    "df = df[(df['fare_amount']>q1) & (df['fare_amount']<q3)]   #remember this"
   ]
  },
  {
   "cell_type": "code",
   "execution_count": 128,
   "id": "e7288c1b",
   "metadata": {},
   "outputs": [
    {
     "data": {
      "text/plain": [
       "{'whiskers': [<matplotlib.lines.Line2D at 0x1ba2b9d4510>,\n",
       "  <matplotlib.lines.Line2D at 0x1ba4961b6d0>],\n",
       " 'caps': [<matplotlib.lines.Line2D at 0x1ba4961be90>,\n",
       "  <matplotlib.lines.Line2D at 0x1ba49619a10>],\n",
       " 'boxes': [<matplotlib.lines.Line2D at 0x1ba53566990>],\n",
       " 'medians': [<matplotlib.lines.Line2D at 0x1ba49619b50>],\n",
       " 'fliers': [<matplotlib.lines.Line2D at 0x1ba4961bad0>],\n",
       " 'means': []}"
      ]
     },
     "execution_count": 128,
     "metadata": {},
     "output_type": "execute_result"
    },
    {
     "data": {
      "image/png": "[encoded data removed]",
      "text/plain": [
       "<Figure size 640x480 with 1 Axes>"
      ]
     },
     "metadata": {},
     "output_type": "display_data"
    }
   ],
   "source": [
    "plt.boxplot(df['fare_amount'])"
   ]
  },
  {
   "cell_type": "code",
   "execution_count": 129,
   "id": "3f678bc0",
   "metadata": {},
   "outputs": [],
   "source": [
    "#correlation"
   ]
  },
  {
   "cell_type": "code",
   "execution_count": 130,
   "id": "dbfbb21e",
   "metadata": {},
   "outputs": [
    {
     "data": {
      "text/html": [
       "<div>\n",
       "<style scoped>\n",
       "    .dataframe tbody tr th:only-of-type {\n",
       "        vertical-align: middle;\n",
       "    }\n",
       "\n",
       "    .dataframe tbody tr th {\n",
       "        vertical-align: top;\n",
       "    }\n",
       "\n",
       "    .dataframe thead th {\n",
       "        text-align: right;\n",
       "    }\n",
       "</style>\n",
       "<table border=\"1\" class=\"dataframe\">\n",
       "  <thead>\n",
       "    <tr style=\"text-align: right;\">\n",
       "      <th></th>\n",
       "      <th>Unnamed: 0</th>\n",
       "      <th>fare_amount</th>\n",
       "      <th>pickup_datetime</th>\n",
       "      <th>pickup_longitude</th>\n",
       "      <th>pickup_latitude</th>\n",
       "      <th>dropoff_longitude</th>\n",
       "      <th>dropoff_latitude</th>\n",
       "      <th>passenger_count</th>\n",
       "    </tr>\n",
       "  </thead>\n",
       "  <tbody>\n",
       "    <tr>\n",
       "      <th>Unnamed: 0</th>\n",
       "      <td>1.000000</td>\n",
       "      <td>-0.000339</td>\n",
       "      <td>-0.001864</td>\n",
       "      <td>-0.000209</td>\n",
       "      <td>-0.000028</td>\n",
       "      <td>-0.000107</td>\n",
       "      <td>0.000647</td>\n",
       "      <td>0.002241</td>\n",
       "    </tr>\n",
       "    <tr>\n",
       "      <th>fare_amount</th>\n",
       "      <td>-0.000339</td>\n",
       "      <td>1.000000</td>\n",
       "      <td>0.098207</td>\n",
       "      <td>0.006534</td>\n",
       "      <td>-0.004843</td>\n",
       "      <td>0.006012</td>\n",
       "      <td>-0.007651</td>\n",
       "      <td>0.012145</td>\n",
       "    </tr>\n",
       "    <tr>\n",
       "      <th>pickup_datetime</th>\n",
       "      <td>-0.001864</td>\n",
       "      <td>0.098207</td>\n",
       "      <td>1.000000</td>\n",
       "      <td>0.008037</td>\n",
       "      <td>-0.008536</td>\n",
       "      <td>0.005789</td>\n",
       "      <td>-0.008432</td>\n",
       "      <td>0.005714</td>\n",
       "    </tr>\n",
       "    <tr>\n",
       "      <th>pickup_longitude</th>\n",
       "      <td>-0.000209</td>\n",
       "      <td>0.006534</td>\n",
       "      <td>0.008037</td>\n",
       "      <td>1.000000</td>\n",
       "      <td>-0.810943</td>\n",
       "      <td>0.832846</td>\n",
       "      <td>-0.846712</td>\n",
       "      <td>-0.000737</td>\n",
       "    </tr>\n",
       "    <tr>\n",
       "      <th>pickup_latitude</th>\n",
       "      <td>-0.000028</td>\n",
       "      <td>-0.004843</td>\n",
       "      <td>-0.008536</td>\n",
       "      <td>-0.810943</td>\n",
       "      <td>1.000000</td>\n",
       "      <td>-0.773097</td>\n",
       "      <td>0.697275</td>\n",
       "      <td>-0.001288</td>\n",
       "    </tr>\n",
       "    <tr>\n",
       "      <th>dropoff_longitude</th>\n",
       "      <td>-0.000107</td>\n",
       "      <td>0.006012</td>\n",
       "      <td>0.005789</td>\n",
       "      <td>0.832846</td>\n",
       "      <td>-0.773097</td>\n",
       "      <td>1.000000</td>\n",
       "      <td>-0.914509</td>\n",
       "      <td>-0.000020</td>\n",
       "    </tr>\n",
       "    <tr>\n",
       "      <th>dropoff_latitude</th>\n",
       "      <td>0.000647</td>\n",
       "      <td>-0.007651</td>\n",
       "      <td>-0.008432</td>\n",
       "      <td>-0.846712</td>\n",
       "      <td>0.697275</td>\n",
       "      <td>-0.914509</td>\n",
       "      <td>1.000000</td>\n",
       "      <td>-0.000537</td>\n",
       "    </tr>\n",
       "    <tr>\n",
       "      <th>passenger_count</th>\n",
       "      <td>0.002241</td>\n",
       "      <td>0.012145</td>\n",
       "      <td>0.005714</td>\n",
       "      <td>-0.000737</td>\n",
       "      <td>-0.001288</td>\n",
       "      <td>-0.000020</td>\n",
       "      <td>-0.000537</td>\n",
       "      <td>1.000000</td>\n",
       "    </tr>\n",
       "  </tbody>\n",
       "</table>\n",
       "</div>"
      ],
      "text/plain": [
       "                   Unnamed: 0  fare_amount  pickup_datetime  pickup_longitude   \n",
       "Unnamed: 0           1.000000    -0.000339        -0.001864         -0.000209  \\\n",
       "fare_amount         -0.000339     1.000000         0.098207          0.006534   \n",
       "pickup_datetime     -0.001864     0.098207         1.000000          0.008037   \n",
       "pickup_longitude    -0.000209     0.006534         0.008037          1.000000   \n",
       "pickup_latitude     -0.000028    -0.004843        -0.008536         -0.810943   \n",
       "dropoff_longitude   -0.000107     0.006012         0.005789          0.832846   \n",
       "dropoff_latitude     0.000647    -0.007651        -0.008432         -0.846712   \n",
       "passenger_count      0.002241     0.012145         0.005714         -0.000737   \n",
       "\n",
       "                   pickup_latitude  dropoff_longitude  dropoff_latitude   \n",
       "Unnamed: 0               -0.000028          -0.000107          0.000647  \\\n",
       "fare_amount              -0.004843           0.006012         -0.007651   \n",
       "pickup_datetime          -0.008536           0.005789         -0.008432   \n",
       "pickup_longitude         -0.810943           0.832846         -0.846712   \n",
       "pickup_latitude           1.000000          -0.773097          0.697275   \n",
       "dropoff_longitude        -0.773097           1.000000         -0.914509   \n",
       "dropoff_latitude          0.697275          -0.914509          1.000000   \n",
       "passenger_count          -0.001288          -0.000020         -0.000537   \n",
       "\n",
       "                   passenger_count  \n",
       "Unnamed: 0                0.002241  \n",
       "fare_amount               0.012145  \n",
       "pickup_datetime           0.005714  \n",
       "pickup_longitude         -0.000737  \n",
       "pickup_latitude          -0.001288  \n",
       "dropoff_longitude        -0.000020  \n",
       "dropoff_latitude         -0.000537  \n",
       "passenger_count           1.000000  "
      ]
     },
     "execution_count": 130,
     "metadata": {},
     "output_type": "execute_result"
    }
   ],
   "source": [
    "df.drop('key' , axis = 1, inplace = True)\n",
    "df.corr()"
   ]
  },
  {
   "cell_type": "code",
   "execution_count": 131,
   "id": "fe0df2d7",
   "metadata": {},
   "outputs": [],
   "source": [
    "#train_test_split\n",
    "from sklearn.model_selection import train_test_split"
   ]
  },
  {
   "cell_type": "code",
   "execution_count": 132,
   "id": "df6aaaf1",
   "metadata": {},
   "outputs": [],
   "source": [
    "df['pickup_datetime'] = pd.to_numeric(pd.to_datetime(df['pickup_datetime']))\n",
    "x = df.drop('fare_amount' , axis = 1)  \n",
    "y = df['fare_amount'] #target variable"
   ]
  },
  {
   "cell_type": "code",
   "execution_count": 133,
   "id": "ae9f036d",
   "metadata": {},
   "outputs": [],
   "source": [
    "x_train , x_test , y_train , y_test = train_test_split(x , y , test_size = 0.20 , random_state = 1)"
   ]
  },
  {
   "cell_type": "code",
   "execution_count": 134,
   "id": "b2650e11",
   "metadata": {},
   "outputs": [],
   "source": [
    "#linear regression"
   ]
  },
  {
   "cell_type": "code",
   "execution_count": 135,
   "id": "89e6a83a",
   "metadata": {},
   "outputs": [],
   "source": [
    "from sklearn.linear_model import LinearRegression\n",
    "lrmodel = LinearRegression()"
   ]
  },
  {
   "cell_type": "code",
   "execution_count": 136,
   "id": "b5c34ebd",
   "metadata": {},
   "outputs": [],
   "source": [
    "lrmodel.fit(x_train , y_train)\n",
    "prediction = lrmodel.predict(x_test)"
   ]
  },
  {
   "cell_type": "code",
   "execution_count": 137,
   "id": "3982695e",
   "metadata": {},
   "outputs": [
    {
     "data": {
      "text/plain": [
       "8.026914370354785"
      ]
     },
     "execution_count": 137,
     "metadata": {},
     "output_type": "execute_result"
    }
   ],
   "source": [
    "from sklearn.metrics import mean_squared_error , r2_score\n",
    "lrRMSE = np.sqrt(mean_squared_error( y_test , prediction ))\n",
    "lrRMSE"
   ]
  },
  {
   "cell_type": "code",
   "execution_count": 138,
   "id": "636c9c8d",
   "metadata": {},
   "outputs": [
    {
     "data": {
      "text/plain": [
       "0.00911686477457152"
      ]
     },
     "execution_count": 138,
     "metadata": {},
     "output_type": "execute_result"
    }
   ],
   "source": [
    "r2 = r2_score( y_test ,prediction ) #remember order\n",
    "r2"
   ]
  },
  {
   "cell_type": "code",
   "execution_count": 145,
   "id": "06f794f9",
   "metadata": {},
   "outputs": [],
   "source": [
    "#random forest "
   ]
  },
  {
   "cell_type": "code",
   "execution_count": 152,
   "id": "554dc8a7",
   "metadata": {},
   "outputs": [],
   "source": [
    "from sklearn.ensemble import RandomForestRegressor\n",
    "rfrmodel = RandomForestRegressor(n_estimators = 100, random_state = 101)\n",
    "#Fit the Forest\n",
    "rfrmodel.fit(x_train, y_train)\n",
    "prediction1 = rfrmodel.predict(x_test)"
   ]
  },
  {
   "cell_type": "code",
   "execution_count": 153,
   "id": "3978f288",
   "metadata": {},
   "outputs": [
    {
     "data": {
      "text/plain": [
       "3.4625396272103592"
      ]
     },
     "execution_count": 153,
     "metadata": {},
     "output_type": "execute_result"
    }
   ],
   "source": [
    "rfRMSE = np.sqrt(mean_squared_error( y_test , prediction1 ))\n",
    "rfRMSE"
   ]
  },
  {
   "cell_type": "code",
   "execution_count": 154,
   "id": "c7add26c",
   "metadata": {},
   "outputs": [],
   "source": [
    "r2 = r2_score(y_test , prediction1)"
   ]
  },
  {
   "cell_type": "code",
   "execution_count": 155,
   "id": "ec9d47ee",
   "metadata": {},
   "outputs": [
    {
     "data": {
      "text/plain": [
       "0.815619630248641"
      ]
     },
     "execution_count": 155,
     "metadata": {},
     "output_type": "execute_result"
    }
   ],
   "source": [
    "r2"
   ]
  },
  {
   "cell_type": "code",
   "execution_count": null,
   "id": "81fc04e4",
   "metadata": {},
   "outputs": [],
   "source": []
  }
 ],
 "metadata": {
  "kernelspec": {
   "display_name": "Python 3 (ipykernel)",
   "language": "python",
   "name": "python3"
  },
  "language_info": {
   "codemirror_mode": {
    "name": "ipython",
    "version": 3
   },
   "file_extension": ".py",
   "mimetype": "text/x-python",
   "name": "python",
   "nbconvert_exporter": "python",
   "pygments_lexer": "ipython3",
   "version": "3.11.1"
  }
 },
 "nbformat": 4,
 "nbformat_minor": 5
}
